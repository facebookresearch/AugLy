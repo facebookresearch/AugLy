{
  "nbformat": 4,
  "nbformat_minor": 0,
  "metadata": {
    "colab": {
      "name": "AugLy_text.ipynb",
      "provenance": [],
      "collapsed_sections": []
    },
    "kernelspec": {
      "name": "python3",
      "display_name": "Python 3"
    },
    "language_info": {
      "name": "python"
    }
  },
  "cells": [
    {
      "cell_type": "code",
      "metadata": {
        "id": "ABLd8on9lFwK"
      },
      "source": [
        "# Note: restart runtime after this import before running the augmentations\n",
        "!pip install -U augly\n",
        "!sudo apt-get install python3-magic"
      ],
      "execution_count": null,
      "outputs": []
    },
    {
      "cell_type": "code",
      "metadata": {
        "colab": {
          "base_uri": "https://localhost:8080/",
          "height": 35
        },
        "id": "LJeIPC67lJet",
        "outputId": "9ede0be7-4c08-4a04-b186-71fec6c07250"
      },
      "source": [
        "import augly.text as textaugs\n",
        "\n",
        "# Define input text\n",
        "input_text = \"Hello, world! How are you today?\"\n",
        "input_text"
      ],
      "execution_count": null,
      "outputs": [
        {
          "output_type": "execute_result",
          "data": {
            "application/vnd.google.colaboratory.intrinsic+json": {
              "type": "string"
            },
            "text/plain": [
              "'Hello, world! How are you today?'"
            ]
          },
          "metadata": {
            "tags": []
          },
          "execution_count": 4
        }
      ]
    },
    {
      "cell_type": "code",
      "metadata": {
        "colab": {
          "base_uri": "https://localhost:8080/"
        },
        "id": "LdGl0JxjlRXR",
        "outputId": "b979812c-271e-4736-8bfe-05ec2b2587e2"
      },
      "source": [
        "# Now we can apply various augmentations!\n",
        "print(textaugs.simulate_typos(input_text))"
      ],
      "execution_count": null,
      "outputs": [
        {
          "output_type": "stream",
          "text": [
            "Hello, world! Hwo are you todya?\n"
          ],
          "name": "stdout"
        }
      ]
    },
    {
      "cell_type": "code",
      "metadata": {
        "id": "-PklmlHolR4j",
        "colab": {
          "base_uri": "https://localhost:8080/"
        },
        "outputId": "4ac676c5-08c7-4af1-be69-af02ce3ae828"
      },
      "source": [
        "\"\"\"\n",
        "You can optionally pass in a metadata list, to which metadata about the\n",
        "augmentation will be appended including kwargs and intensity (defined based on\n",
        "the kwargs for each augmentation).\n",
        "\"\"\"\n",
        "meta = []\n",
        "print(\n",
        "    textaugs.replace_fun_fonts(\n",
        "        input_text, vary_fonts=True, granularity=\"word\", metadata=meta\n",
        "    )\n",
        ")\n",
        "meta"
      ],
      "execution_count": null,
      "outputs": [
        {
          "output_type": "stream",
          "text": [
            "Hello, 𝓌𝑜𝓇𝓁𝒹! How are you t̾o̾d̾a̾y̾?\n"
          ],
          "name": "stdout"
        },
        {
          "output_type": "execute_result",
          "data": {
            "text/plain": [
              "[{'aug_max': 10000,\n",
              "  'aug_min': 1,\n",
              "  'aug_p': 0.3,\n",
              "  'dst_length': 37,\n",
              "  'fonts_path': '/usr/local/lib/python3.7/dist-packages/augly/assets/text/fun_fonts.json',\n",
              "  'granularity': 'word',\n",
              "  'input_type': 'string',\n",
              "  'intensity': 30.0,\n",
              "  'n': 1,\n",
              "  'name': 'replace_fun_fonts',\n",
              "  'priority_words': None,\n",
              "  'src_length': 1,\n",
              "  'vary_fonts': True}]"
            ]
          },
          "metadata": {
            "tags": []
          },
          "execution_count": 16
        }
      ]
    },
    {
      "cell_type": "code",
      "metadata": {
        "colab": {
          "base_uri": "https://localhost:8080/"
        },
        "id": "_ab92YUjyM6y",
        "outputId": "86709d5f-c95d-4ca3-8cbb-3112a6c205ff"
      },
      "source": [
        "# For all the augmentations, we have class-based definitions as well as\n",
        "# functional\n",
        "meta = []\n",
        "aug = textaugs.ReplaceSimilarUnicodeChars(aug_word_p=0.6)\n",
        "print(aug(input_text, metadata=meta))\n",
        "meta"
      ],
      "execution_count": null,
      "outputs": [
        {
          "output_type": "stream",
          "text": [
            "ዙello, ฬorld! ♄ow are yỢu ⍡oday?\n"
          ],
          "name": "stdout"
        },
        {
          "output_type": "execute_result",
          "data": {
            "text/plain": [
              "[{'aug_char_max': 1000,\n",
              "  'aug_char_min': 1,\n",
              "  'aug_char_p': 0.3,\n",
              "  'aug_word_max': 1000,\n",
              "  'aug_word_min': 1,\n",
              "  'aug_word_p': 0.6,\n",
              "  'dst_length': 32,\n",
              "  'input_type': 'string',\n",
              "  'intensity': 18.0,\n",
              "  'mapping_path': '/usr/local/lib/python3.7/dist-packages/augly/assets/text/letter_unicode_mapping.json',\n",
              "  'min_char': 2,\n",
              "  'n': 1,\n",
              "  'name': 'replace_similar_unicode_chars',\n",
              "  'priority_words': None,\n",
              "  'src_length': 1}]"
            ]
          },
          "metadata": {
            "tags": []
          },
          "execution_count": 19
        }
      ]
    },
    {
      "cell_type": "code",
      "metadata": {
        "id": "9-IMYGRyzNen"
      },
      "source": [
        ""
      ],
      "execution_count": null,
      "outputs": []
    }
  ]
}